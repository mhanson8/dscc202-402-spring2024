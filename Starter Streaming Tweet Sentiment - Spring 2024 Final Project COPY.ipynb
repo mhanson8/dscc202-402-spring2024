{
 "cells": [
  {
   "cell_type": "markdown",
   "metadata": {
    "application/vnd.databricks.v1+cell": {
     "cellMetadata": {
      "byteLimit": 2048000,
      "rowLimit": 10000
     },
     "inputWidgets": {},
     "nuid": "fc749083-2211-485c-943f-640e198b2c70",
     "showTitle": false,
     "title": ""
    }
   },
   "source": [
    "## DSCC202-402 Data Science at Scale Final Project Meg Hanson DSCC 202\n",
    "\n",
    "### Tracking Tweet sentiment at scale using a pretrained transformer (classifier)\n",
    "<p>Consider the following illustration of the end to end system that you will be building.  Each student should do their own work.  The project will demonstrate your understanding of Spark Streaming, the medalion data architecture using Delta Lake, Spark Inference at Scale using an MLflow packaged model as well as Exploritory Data Analysis and System Tracking and Monitoring.</p>\n",
    "<br><br>\n",
    "<img src=\"https://data-science-at-scale.s3.amazonaws.com/images/pipeline.drawio.png\">\n",
    "\n",
    "<p>\n",
    "You will be pulling an updated copy of the course GitHub repositiory: <a href=\"https://github.com/lpalum/dscc202-402-spring2024\">The Repo</a>.  If you are unclear on how to pull an updated copy using the GitHub command line, the following <a href=\"https://techwritingmatters.com/how-to-update-your-forked-repository-on-github\">document</a> is helpful.  Be sure to add the professors and TAs as collaborators on your project. \n",
    "\n",
    "- lpalum@gmail.com GitHub ID: lpalum\n",
    "- ajay.anand@rochester.edu GitHub ID: ajayan12\n",
    "- divyamunot1999@gmail.com GitHub ID: divyamunot\n",
    "- ylong6@u.Rochester.edu GitHub ID: NinaLong2077\n",
    "\n",
    "Once you have updates your fork of the repository you should see the following template project that is resident in the final_project directory.\n",
    "</p>\n",
    "\n",
    "<img src=\"https://data-science-at-scale.s3.amazonaws.com/images/notebooks.drawio.png\">\n",
    "\n",
    "<p>\n",
    "You can then pull your project into the Databrick Workspace using the <a href=\"https://www.databricks.training/step-by-step/importing-courseware-from-github/index.html\">Repos</a> feature.\n",
    "Each student is expected to submit the URL of their project on GitHub with their code checked in on the main/master branch.  This illustration highlights the branching scheme that you may use to work on your code in steps and then merge your submission into your master branch before submitting.\n",
    "</p>\n",
    "<img src=\"https://data-science-at-scale.s3.amazonaws.com/images/github.drawio.png\">\n",
    "<p>\n",
    "Work your way through this notebook which will give you the steps required to submit a complete and compliant project.  The following illustration and associated data dictionary specifies the transformations and data that you are to generate for each step in the medallion pipeline.\n",
    "</p>\n",
    "<br><br>\n",
    "<img src=\"https://data-science-at-scale.s3.amazonaws.com/images/dataframes.drawio.png\">\n",
    "\n",
    "#### Bronze Data - raw ingest\n",
    "- date - string in the source json\n",
    "- user - string in the source json\n",
    "- text - tweet string in the source json\n",
    "- sentiment - the given sentiment of the text as determined by an unknown model that is provided in the source json\n",
    "- source_file - the path of the source json file the this row of data was read from\n",
    "- processing_time - a timestamp of when you read this row from the source json\n",
    "\n",
    "#### Silver Data - Bronze Preprocessing\n",
    "- timestamp - convert date string in the bronze data to a timestamp\n",
    "- mention - every @username mentioned in the text string in the bronze data gets a row in this silver data table.\n",
    "- cleaned_text - the bronze text data with the mentions (@username) removed.\n",
    "- sentiment - the given sentiment that was associated with the text in the bronze table.\n",
    "\n",
    "#### Gold Data - Silver Table Inference\n",
    "- timestamp - the timestamp from the silver data table rows\n",
    "- mention - the mention from the silver data table rows\n",
    "- cleaned_text - the cleaned_text from the silver data table rows\n",
    "- sentiment - the given sentiment from the silver data table rows\n",
    "- predicted_score - score out of 100 from the Hugging Face Sentiment Transformer\n",
    "- predicted_sentiment - string representation of the sentiment\n",
    "- sentiment_id - 0 for negative and 1 for postive associated with the given sentiment\n",
    "- predicted_sentiment_id - 0 for negative and 1 for positive assocaited with the Hugging Face Sentiment Transformer\n",
    "\n",
    "#### Application Data - Gold Table Aggregation\n",
    "- min_timestamp - the oldest timestamp on a given mention (@username)\n",
    "- max_timestamp - the newest timestamp on a given mention (@username)\n",
    "- mention - the user (@username) that this row pertains to.\n",
    "- negative - total negative tweets directed at this mention (@username)\n",
    "- neutral - total neutral tweets directed at this mention (@username)\n",
    "- positive - total positive tweets directed at this mention (@username)\n",
    "\n",
    "When you are designing your approach, one of the main decisions that you will need to make is how you are going to orchestrate the streaming data processing in your pipeline.  There are several valid approaches.  First, you may choose to start the bronze_stream and let it complete (read and append all of the source data) before preceeding and starting up the silver_stream.  This approach has latency associated with it but it will allow your code to proceed in a linear fashion and process all the data by the end of your notebook execution.  Another potential approach is to start all the streams and have a \"watch\" method to determine when the pipeline has processed sufficient or all of the source data before stopping and displaying results.  Both of these approaches are valid and have different implications on how you will trigger your steams and how you will gate the execution of your pipeline.  Think through how you want to proceed and ask questions if you need guidance. The following references may be helpful:\n",
    "- [Spark Structured Streaming Programming Guide](https://spark.apache.org/docs/latest/structured-streaming-programming-guide.html)\n",
    "- [Databricks Autoloader - Cloudfiles](https://docs.databricks.com/en/ingestion/auto-loader/index.html)\n",
    "\n",
    "### Be sure that your project runs end to end when *Run all* is executued on this notebook! (15 Points out of 60)"
   ]
  },
  {
   "cell_type": "code",
   "execution_count": 0,
   "metadata": {
    "application/vnd.databricks.v1+cell": {
     "cellMetadata": {
      "byteLimit": 2048000,
      "rowLimit": 10000
     },
     "inputWidgets": {},
     "nuid": "a8405a67-7df8-4650-9153-0651c7a1fd3d",
     "showTitle": false,
     "title": ""
    }
   },
   "outputs": [],
   "source": [
    "!/databricks/python3/bin/python -m pip install --upgrade pip"
   ]
  },
  {
   "cell_type": "code",
   "execution_count": 0,
   "metadata": {
    "application/vnd.databricks.v1+cell": {
     "cellMetadata": {
      "byteLimit": 2048000,
      "rowLimit": 10000
     },
     "inputWidgets": {},
     "nuid": "068f25d0-1387-4342-89cf-ce82a8d614ce",
     "showTitle": true,
     "title": "Pull in the Includes & Utiltites"
    }
   },
   "outputs": [],
   "source": [
    "%run ./includes/includes"
   ]
  },
  {
   "cell_type": "code",
   "execution_count": 0,
   "metadata": {
    "application/vnd.databricks.v1+cell": {
     "cellMetadata": {
      "byteLimit": 2048000,
      "rowLimit": 10000
     },
     "inputWidgets": {},
     "nuid": "6512bf1b-50e0-4a4b-84a9-e280a6260b56",
     "showTitle": true,
     "title": "Notebook Control Widgets (maybe helpful)"
    }
   },
   "outputs": [],
   "source": [
    "\"\"\"\n",
    "Adding a widget to the notebook to control the clearing of a previous run.\n",
    "or stopping the active streams using routines defined in the utilities notebook\n",
    "\"\"\"\n",
    "dbutils.widgets.removeAll()\n",
    "\n",
    "dbutils.widgets.dropdown(\"clear_previous_run\", \"No\", [\"No\",\"Yes\"])\n",
    "if (getArgument(\"clear_previous_run\") == \"Yes\"):\n",
    "    clear_previous_run()\n",
    "    print(\"Cleared all previous data.\")\n",
    "\n",
    "dbutils.widgets.dropdown(\"stop_streams\", \"No\", [\"No\",\"Yes\"])\n",
    "if (getArgument(\"stop_streams\") == \"Yes\"):\n",
    "    stop_all_streams()\n",
    "    print(\"Stopped all active streams.\")\n",
    "\n",
    "from delta import *\n",
    "dbutils.widgets.dropdown(\"optimize_tables\", \"No\", [\"No\",\"Yes\"])\n",
    "if (getArgument(\"optimize_tables\") == \"Yes\"):\n",
    "    # Suck up those small files that we have been appending.\n",
    "    DeltaTable.forPath(spark, BRONZE_DELTA).optimize().executeCompaction()\n",
    "    # Suck up those small files that we have been appending.\n",
    "    DeltaTable.forPath(spark, SILVER_DELTA).optimize().executeCompaction()\n",
    "    # Suck up those small files that we have been appending.\n",
    "    DeltaTable.forPath(spark, GOLD_DELTA).optimize().executeCompaction()\n",
    "    print(\"Optimized all of the Delta Tables\")"
   ]
  },
  {
   "cell_type": "markdown",
   "metadata": {
    "application/vnd.databricks.v1+cell": {
     "cellMetadata": {
      "byteLimit": 2048000,
      "rowLimit": 10000
     },
     "inputWidgets": {},
     "nuid": "e8ce7c13-7f8f-4e11-b50c-fdaebbcf3f99",
     "showTitle": false,
     "title": ""
    }
   },
   "source": [
    "## 1.0 Import your libraries here...\n",
    "- Are your shuffle partitions consistent with your cluster and your workload?\n",
    "- Do you have the necessary libraries to perform the required operations in the pipeline/application?"
   ]
  },
  {
   "cell_type": "code",
   "execution_count": 0,
   "metadata": {
    "application/vnd.databricks.v1+cell": {
     "cellMetadata": {
      "byteLimit": 2048000,
      "rowLimit": 10000
     },
     "inputWidgets": {},
     "nuid": "67bafbb7-d34e-4e86-b159-b2e062faa1d0",
     "showTitle": false,
     "title": ""
    }
   },
   "outputs": [],
   "source": [
    "spark.conf.set(\"spark.sql.shuffle.partitions\", \"4\")  # we have 4 cores in this cluster so set the configurations so that there are 4 partitions \n",
    "spark.conf.set(\"spark.default.parallelism\", \"1\")\n",
    "spark.conf.set(\"spark.sql.adaptive.enabled\", \"true\")\n",
    "\n",
    "# NEED to have the necessary libraries \n",
    "import pandas as pd\n",
    "import plotly # for graphing \n",
    "import json\n",
    "from pyspark.sql.session import SparkSession\n",
    "from pyspark.sql.types import *\n",
    "from pyspark.sql.functions import *\n",
    "import time\n",
    "import plotly.express as px # for graphing \n",
    "from pyspark.sql.functions import col, to_timestamp, expr, regexp_extract, regexp_replace\n",
    "from sklearn.metrics import confusion_matrix, precision_score, recall_score, f1_score\n",
    "import matplotlib.pyplot as plt # visualization\n",
    "import seaborn as sns\n",
    "import mlflow\n",
    "from delta import *"
   ]
  },
  {
   "cell_type": "code",
   "execution_count": 0,
   "metadata": {
    "application/vnd.databricks.v1+cell": {
     "cellMetadata": {
      "byteLimit": 2048000,
      "rowLimit": 10000
     },
     "inputWidgets": {},
     "nuid": "0322d404-4fe6-4a8b-aa06-fca6960f9a66",
     "showTitle": false,
     "title": ""
    }
   },
   "outputs": [],
   "source": [
    "# # making a directory with only 100 tweets and testing on that \n",
    "# import os\n",
    "# test_directory = USER_DIR + 'test'\n",
    "# dbutils.fs.mkdirs(test_directory)\n",
    "\n",
    "# # Get the listing of files in the source path\n",
    "# files = dbutils.fs.ls(TWEET_SOURCE_PATH)\n",
    "\n",
    "# # Copy the first 100 files to the destination path\n",
    "# for file in files[:100]:\n",
    "#     file_name = os.path.basename(file.path)\n",
    "#     dbutils.fs.cp(file.path, f\"{test_directory}/{file_name}\")\n",
    "\n",
    "\n"
   ]
  },
  {
   "cell_type": "code",
   "execution_count": 0,
   "metadata": {
    "application/vnd.databricks.v1+cell": {
     "cellMetadata": {
      "byteLimit": 2048000,
      "rowLimit": 10000
     },
     "inputWidgets": {},
     "nuid": "ad2e45e6-9f2a-4368-9d25-6e37c2714277",
     "showTitle": false,
     "title": ""
    }
   },
   "outputs": [],
   "source": [
    "#dbutils.fs.ls(test_directory)"
   ]
  },
  {
   "cell_type": "markdown",
   "metadata": {
    "application/vnd.databricks.v1+cell": {
     "cellMetadata": {
      "byteLimit": 2048000,
      "rowLimit": 10000
     },
     "inputWidgets": {},
     "nuid": "2b7624b4-0aa5-46b7-9767-52f462b2c574",
     "showTitle": false,
     "title": ""
    }
   },
   "source": [
    "## 2.0 Use the utility functions to ...\n",
    "- Read the source file directory listing\n",
    "- Count the source files (how many are there?)\n",
    "- print the contents of one of the files"
   ]
  },
  {
   "cell_type": "code",
   "execution_count": 0,
   "metadata": {
    "application/vnd.databricks.v1+cell": {
     "cellMetadata": {
      "byteLimit": 2048000,
      "rowLimit": 10000
     },
     "inputWidgets": {},
     "nuid": "a59749d5-e45d-460f-9be1-33652cda2ea5",
     "showTitle": false,
     "title": ""
    }
   },
   "outputs": [],
   "source": [
    "# ENTER YOUR CODE HERE\n",
    "\n",
    "# Checking the contents of the TWEET_SOURCE_PATH directory and displaying it\n",
    "df = get_source_listing_df()\n",
    "display(df)\n"
   ]
  },
  {
   "cell_type": "code",
   "execution_count": 0,
   "metadata": {
    "application/vnd.databricks.v1+cell": {
     "cellMetadata": {
      "byteLimit": 2048000,
      "rowLimit": 10000
     },
     "inputWidgets": {},
     "nuid": "aab38fad-3b2c-4238-b2b9-281a3a79ab6e",
     "showTitle": false,
     "title": ""
    }
   },
   "outputs": [],
   "source": [
    "# Counting the number of files in the TWEET_SOURCE_PATH directory\n",
    "count_of_files = df.count()\n",
    "print(\"Number of source files:\", count_of_files)\n",
    "\n",
    "# print the contents of a singular file \n",
    "show_s3_file_contents(\"voc_volume/0.json\")"
   ]
  },
  {
   "cell_type": "markdown",
   "metadata": {
    "application/vnd.databricks.v1+cell": {
     "cellMetadata": {
      "byteLimit": 2048000,
      "rowLimit": 10000
     },
     "inputWidgets": {},
     "nuid": "1676aed7-527f-4ea7-9d3b-52544e8c1e37",
     "showTitle": false,
     "title": ""
    }
   },
   "source": [
    "## 3.0 Transform the Raw Data to Bronze Data using a stream\n",
    "- define the schema for the raw data\n",
    "- setup a read stream using cloudfiles and the source data format\n",
    "- setup a write stream using cloudfiles to append to the bronze delta table\n",
    "- enforce schema\n",
    "- allow a new schema to be merged into the bronze delta table\n",
    "- Use the defined BRONZE_CHECKPOINT and BRONZE_DELTA paths defines in the includes\n",
    "- name your raw to bronze stream as bronze_stream\n",
    "- transform the raw data to the bronze data using the data definition at the top of the notebook"
   ]
  },
  {
   "cell_type": "code",
   "execution_count": 0,
   "metadata": {
    "application/vnd.databricks.v1+cell": {
     "cellMetadata": {
      "byteLimit": 2048000,
      "rowLimit": 10000
     },
     "inputWidgets": {},
     "nuid": "c4e37574-9885-4908-bf97-609d140a8818",
     "showTitle": false,
     "title": ""
    }
   },
   "outputs": [],
   "source": [
    "# raw schema\n",
    "jsonschema_raw = StructType([\n",
    "    StructField(\"date\", StringType()),\n",
    "    StructField(\"user\", StringType()),\n",
    "    StructField(\"text\", StringType()),\n",
    "    StructField(\"sentiment\", StringType()),\n",
    "])\n",
    "\n",
    "# cloud files to read the stream\n",
    "bronze_query = (spark.readStream\n",
    "    .format(\"cloudFiles\")  # tells Spark to use AutoLoader\n",
    "    .option(\"cloudFiles.format\", \"json\")  # the actual format of our data files. Tells AutoLoader to expect json files\n",
    "    .option(\"path\", TWEET_SOURCE_PATH)  # where the tweets are coming from \n",
    "    .option(\"mergeSchema\", True)  # ensuring mergeSchema works\n",
    "    .schema(jsonschema_raw)  # raw schema of the data \n",
    "    .load()\n",
    "    .withColumn('source_file', input_file_name()) #adding source file column              \n",
    "    .withColumn('processing_time', current_timestamp()) # adding the time stamp of processing \n",
    "    .writeStream\n",
    "    .outputMode(\"append\")\n",
    "    .queryName('bronze_stream')\n",
    "    .format('delta')\n",
    "    .option(\"checkpointLocation\", BRONZE_CHECKPOINT)\n",
    "    .start(BRONZE_DELTA)\n",
    ")\n",
    "\n"
   ]
  },
  {
   "cell_type": "code",
   "execution_count": 0,
   "metadata": {
    "application/vnd.databricks.v1+cell": {
     "cellMetadata": {
      "byteLimit": 2048000,
      "rowLimit": 10000
     },
     "inputWidgets": {},
     "nuid": "a740256d-48f6-48c3-913e-4135cf5cbc67",
     "showTitle": false,
     "title": ""
    }
   },
   "outputs": [],
   "source": [
    "#bronze_query.awaitTermination(60) # lets the code run for 60 seconds remove this later \n",
    "#bronze_query.stop()\n",
    "\n",
    "# ensuring the entire query is run before moving on\n",
    "bronze_query.awaitTermination()\n",
    "bronze_query.stop()\n",
    "DeltaTable.forPath(spark, BRONZE_DELTA).optimize()\n",
    "\n"
   ]
  },
  {
   "cell_type": "code",
   "execution_count": 0,
   "metadata": {
    "application/vnd.databricks.v1+cell": {
     "cellMetadata": {
      "byteLimit": 2048000,
      "rowLimit": 10000
     },
     "inputWidgets": {},
     "nuid": "dcd0c135-dcfe-462a-9b4c-953153713f52",
     "showTitle": false,
     "title": ""
    }
   },
   "outputs": [],
   "source": [
    "display(dbutils.fs.ls(BRONZE_DELTA)) # checking to see that the bronze_delta table exists in this path "
   ]
  },
  {
   "cell_type": "markdown",
   "metadata": {
    "application/vnd.databricks.v1+cell": {
     "cellMetadata": {
      "byteLimit": 2048000,
      "rowLimit": 10000
     },
     "inputWidgets": {},
     "nuid": "9bc3e824-d218-43e5-a43b-4c6dbe31950d",
     "showTitle": false,
     "title": ""
    }
   },
   "source": [
    "## 4.0 Bronze Data Exploratory Data Analysis\n",
    "- How many tweets are captured in your Bronze Table?\n",
    "- Are there any columns that contain Nan or Null values?  If so how many and what will you do in your silver transforms to address this?\n",
    "- Count the number of tweets by each unique user handle and sort the data by descending count.\n",
    "- How many tweets have at least one mention (@) how many tweet have no mentions (@)\n",
    "- Plot a bar chart that shows the top 20 tweeters (users)\n"
   ]
  },
  {
   "cell_type": "code",
   "execution_count": 0,
   "metadata": {
    "application/vnd.databricks.v1+cell": {
     "cellMetadata": {
      "byteLimit": 2048000,
      "rowLimit": 10000
     },
     "inputWidgets": {},
     "nuid": "091ec59c-d968-4acf-b56f-cc9178cd0693",
     "showTitle": false,
     "title": ""
    }
   },
   "outputs": [],
   "source": [
    "# reading the delta table from BRONZE_DELTA location \n",
    "bronze_df = spark.read.format(\"delta\").load(BRONZE_DELTA)\n",
    "print(bronze_df.count())\n",
    "display(bronze_df)\n",
    "\n",
    "# counting the number of tweets using .count()\n",
    "print(\"the number of tweets captured in bronze table\", bronze_df.count())\n",
    "\n",
    "# code to show the count of all the none, null, NaN values for each column \n",
    "for c in bronze_df.columns: \n",
    "   count_of_nan = bronze_df.filter(bronze_df[c].isNull()).count()\n",
    "   print(\"number of null values for column\", c, \"\", count_of_nan)\n"
   ]
  },
  {
   "cell_type": "markdown",
   "metadata": {
    "application/vnd.databricks.v1+cell": {
     "cellMetadata": {
      "byteLimit": 2048000,
      "rowLimit": 10000
     },
     "inputWidgets": {},
     "nuid": "f4d08b65-153c-4b79-8ce7-55d7e21599d3",
     "showTitle": false,
     "title": ""
    }
   },
   "source": [
    "There does exist nan and null values in this data frame. In order to address this, I would personally delete the entire row, because one, there are 200001 tweets so removing rows with nan/null will not be many relative to the total number of tweets."
   ]
  },
  {
   "cell_type": "code",
   "execution_count": 0,
   "metadata": {
    "application/vnd.databricks.v1+cell": {
     "cellMetadata": {
      "byteLimit": 2048000,
      "rowLimit": 10000
     },
     "inputWidgets": {},
     "nuid": "f8acbe62-f624-4b10-a58e-9a5f966ba017",
     "showTitle": false,
     "title": ""
    }
   },
   "outputs": [],
   "source": [
    "# counting number of tweets by each unique user handle and sort by descending count \n",
    "unique_users = (bronze_df\n",
    "            .groupBy('user') # grouping by the distinct user \n",
    "            .count()\n",
    "            .orderBy(desc(\"count\"))\n",
    "            .show()\n",
    ")"
   ]
  },
  {
   "cell_type": "code",
   "execution_count": 0,
   "metadata": {
    "application/vnd.databricks.v1+cell": {
     "cellMetadata": {
      "byteLimit": 2048000,
      "rowLimit": 10000
     },
     "inputWidgets": {},
     "nuid": "5ee51988-d526-4815-a48e-fad4bf6742b5",
     "showTitle": false,
     "title": ""
    }
   },
   "outputs": [],
   "source": [
    "# Selecting rows with mentions of at least one @\n",
    "\n",
    "# Define the regex pattern to extract '@' symbol\n",
    "regex_pattern = r\".*@.*\"\n",
    "\n",
    "# Filter the DataFrame to select rows where the 'text' column matches the regex pattern\n",
    "filtered_data_at_least_one_mention = bronze_df.filter(expr(\"text RLIKE '\" + regex_pattern + \"'\"))\n",
    "\n",
    "# Count the number of rows in the filtered DataFrame\n",
    "at_least_one_mentions_users = filtered_data_at_least_one_mention.count()\n",
    "\n",
    "print(\"Count for number of tweets with at least one mention @:\", at_least_one_mentions_users )\n",
    "\n",
    "# Counting the tweets without any mentions (@)\n",
    "no_mentions_users = bronze_df.filter(col(\"text\").contains(\"@\")).count()\n",
    "print(\"Count for number of tweets without any '@' mention:\", no_mentions_users)"
   ]
  },
  {
   "cell_type": "code",
   "execution_count": 0,
   "metadata": {
    "application/vnd.databricks.v1+cell": {
     "cellMetadata": {
      "byteLimit": 2048000,
      "rowLimit": 10000
     },
     "inputWidgets": {},
     "nuid": "d41c6a06-0574-4d5d-9593-cad9d3331789",
     "showTitle": false,
     "title": ""
    }
   },
   "outputs": [],
   "source": [
    "# Plot a bar chart that shows the top 20 tweeters (users)\n",
    "\n",
    "# first get the dataframe of the top 20 tweeters and the respective count for each \n",
    "\n",
    "top_twenty = (bronze_df\n",
    "            .groupBy('user') # grouping by the distinct user \n",
    "            .count()\n",
    "            .orderBy(desc(\"count\"))\n",
    "            .limit(20)\n",
    ")\n",
    "\n",
    "# Convert Spark DataFrame to Pandas DataFrame\n",
    "top_twenty_pd = top_twenty.toPandas()\n",
    "\n",
    "# Plot the bar chart using the Pandas DataFrame\n",
    "fig = px.bar(top_twenty_pd, x='user', y='count', title = 'Top Twenty Users')\n",
    "fig.show()"
   ]
  },
  {
   "cell_type": "markdown",
   "metadata": {
    "application/vnd.databricks.v1+cell": {
     "cellMetadata": {
      "byteLimit": 2048000,
      "rowLimit": 10000
     },
     "inputWidgets": {},
     "nuid": "38c290b9-a42a-4551-857b-3f461b8a1be6",
     "showTitle": false,
     "title": ""
    }
   },
   "source": [
    "## 5.0 Transform the Bronze Data to Silver Data using a stream\n",
    "- setup a read stream on your bronze delta table\n",
    "- setup a write stream to append to the silver delta table\n",
    "- Use the defined SILVER_CHECKPOINT and SILVER_DELTA paths in the includes\n",
    "- name your bronze to silver stream as silver_stream\n",
    "- transform the bronze data to the silver data using the data definition at the top of the notebook\n",
    "\n",
    "#### Silver Data - Bronze Preprocessing\n",
    "- timestamp - convert date string in the bronze data to a timestamp\n",
    "- mention - every @username mentioned in the text string in the bronze data gets a row in this silver data table.\n",
    "- cleaned_text - the bronze text data with the mentions (@username) removed.\n",
    "- sentiment - the given sentiment that was associated with the text in the bronze table."
   ]
  },
  {
   "cell_type": "code",
   "execution_count": 0,
   "metadata": {
    "application/vnd.databricks.v1+cell": {
     "cellMetadata": {
      "byteLimit": 2048000,
      "rowLimit": 10000
     },
     "inputWidgets": {},
     "nuid": "65b029cb-ba45-4625-a9c1-d0d410a4962b",
     "showTitle": false,
     "title": ""
    }
   },
   "outputs": [],
   "source": [
    "silver_query = (spark.readStream\n",
    "                .option(\"path\", BRONZE_DELTA)\n",
    "                .option(\"mergeSchema\", True)\n",
    "                .load()\n",
    "                .withColumn('formatted_date', expr(\"substring(date, 5, length(date))\")) # column that formats the date before the date becomes a timestamp\n",
    "                .withColumn('timestamp', to_timestamp(col('formatted_date'), 'MMM dd HH:mm:ss z yyyy'))\n",
    "                .withColumn('mention', regexp_extract('text', '@([a-zA-Z0-9_]+)', 1))\n",
    "                .withColumn('cleaned_text', regexp_replace('text', '@[a-zA-Z0-9_]+', ''))\n",
    "                .select('timestamp', 'mention', 'cleaned_text', 'sentiment')\n",
    "                .writeStream\n",
    "                .format(\"delta\")\n",
    "                .outputMode(\"append\")\n",
    "                .queryName('silver_stream')\n",
    "                .format('delta')\n",
    "                .option(\"checkpointLocation\", SILVER_CHECKPOINT)\n",
    "                .start(SILVER_DELTA)\n",
    ")\n",
    "\n"
   ]
  },
  {
   "cell_type": "code",
   "execution_count": 0,
   "metadata": {
    "application/vnd.databricks.v1+cell": {
     "cellMetadata": {
      "byteLimit": 2048000,
      "rowLimit": 10000
     },
     "inputWidgets": {},
     "nuid": "4d01bc71-ba37-4a1b-8b6f-3fc2367331d4",
     "showTitle": false,
     "title": ""
    }
   },
   "outputs": [],
   "source": [
    "# silver_query.awaitTermination(60) # lets the code run for 60 seconds remove this later \n",
    "# silver_query.stop()\n",
    "\n",
    "#ensuring the entire query is run before moving on\n",
    "# silver_query.awaitTermination()\n",
    "# silver_query.stop()\n",
    "DeltaTable.forPath(spark, SILVER_DELTA).optimize()"
   ]
  },
  {
   "cell_type": "code",
   "execution_count": 0,
   "metadata": {
    "application/vnd.databricks.v1+cell": {
     "cellMetadata": {
      "byteLimit": 2048000,
      "rowLimit": 10000
     },
     "inputWidgets": {},
     "nuid": "0b87c07c-3844-4a55-9704-34d39fc14eae",
     "showTitle": false,
     "title": ""
    }
   },
   "outputs": [],
   "source": [
    "display(dbutils.fs.ls(SILVER_DELTA))"
   ]
  },
  {
   "cell_type": "code",
   "execution_count": 0,
   "metadata": {
    "application/vnd.databricks.v1+cell": {
     "cellMetadata": {
      "byteLimit": 2048000,
      "rowLimit": 10000
     },
     "inputWidgets": {},
     "nuid": "b8561854-216c-4bd1-b6cd-760a12b25fd5",
     "showTitle": false,
     "title": ""
    }
   },
   "outputs": [],
   "source": [
    "silver_df = spark.read.format(\"delta\").load(SILVER_DELTA)\n",
    "display(silver_df)"
   ]
  },
  {
   "cell_type": "markdown",
   "metadata": {
    "application/vnd.databricks.v1+cell": {
     "cellMetadata": {
      "byteLimit": 2048000,
      "rowLimit": 10000
     },
     "inputWidgets": {},
     "nuid": "9ee38aba-e340-4766-8339-71ef2ecfde3a",
     "showTitle": false,
     "title": ""
    }
   },
   "source": [
    "## 6.0 Transform the Silver Data to Gold Data using a stream\n",
    "- setup a read stream on your silver delta table\n",
    "- setup a write stream to append to the gold delta table\n",
    "- Use the defined GOLD_CHECKPOINT and GOLD_DELTA paths defines in the includes\n",
    "- name your silver to gold stream as gold_stream\n",
    "- transform the silver data to the gold data using the data definition at the top of the notebook\n",
    "- Load the pretrained transformer sentiment classifier from the MODEL_NAME at the production level from the MLflow registry\n",
    "- Use a spark UDF to parallelize the inference across your silver data\n",
    "\n",
    "\n",
    "Columns for the Gold Table \n",
    "\n",
    "timestamp - the timestamp from the silver data table rows\n",
    "\n",
    "mention - the mention from the silver data table rows\n",
    "\n",
    "cleaned_text - the cleaned_text from the silver data table rows\n",
    "\n",
    "sentiment - the given sentiment from the silver data table rows\n",
    "\n",
    "predicted_score - score out of 100 from the Hugging Face Sentiment Transformer\n",
    "\n",
    "predicted_sentiment - string representation of the sentiment\n",
    "\n",
    "sentiment_id - 0 for negative and 1 for postive associated with the given sentiment\n",
    "\n",
    "predicted_sentiment_id - 0 for negative and 1 for positive assocaited with the Hugging Face Sentiment Transformer\n"
   ]
  },
  {
   "cell_type": "code",
   "execution_count": 0,
   "metadata": {
    "application/vnd.databricks.v1+cell": {
     "cellMetadata": {
      "byteLimit": 2048000,
      "rowLimit": 10000
     },
     "inputWidgets": {},
     "nuid": "326b2f68-9d22-4e6b-a940-697ee8a0c525",
     "showTitle": false,
     "title": ""
    }
   },
   "outputs": [],
   "source": [
    "import mlflow\n",
    "\n",
    "#loading the model from MLFlow Registery using the spark \n",
    "sent_model = mlflow.pyfunc.spark_udf(spark, model_uri = f\"models:/{MODEL_NAME}/production\")\n"
   ]
  },
  {
   "cell_type": "markdown",
   "metadata": {
    "application/vnd.databricks.v1+cell": {
     "cellMetadata": {
      "byteLimit": 2048000,
      "rowLimit": 10000
     },
     "inputWidgets": {},
     "nuid": "5ff4056a-2006-4873-815c-c753235e2144",
     "showTitle": false,
     "title": ""
    }
   },
   "source": [
    "decided to make any neutral predicted_sentiments turn into negative sentiments, so I  could include more data points into the confusion matrix. this decision will have an impact on what the confusion matrix comes out to look like."
   ]
  },
  {
   "cell_type": "code",
   "execution_count": 0,
   "metadata": {
    "application/vnd.databricks.v1+cell": {
     "cellMetadata": {
      "byteLimit": 2048000,
      "rowLimit": 10000
     },
     "inputWidgets": {},
     "nuid": "31e8949d-c016-44a7-9f03-65f471dfd22d",
     "showTitle": false,
     "title": ""
    }
   },
   "outputs": [],
   "source": [
    "# ENTER YOUR CODE HERE\n",
    "\n",
    "# https://huggingface.co/facebook/bart-base\n",
    "\n",
    "# write a spark udf to make output 0 or 1 \n",
    "def convert_sentiment(sentiment):\n",
    "    sentiment = sentiment.lower()[:3]\n",
    "    if sentiment == \"pos\":\n",
    "        return 1\n",
    "    else: # having neutral statements also be counted as negative \n",
    "        return 0\n",
    "\n",
    "# Defining the UDF here \n",
    "convert_sentiment_udf = udf(convert_sentiment, IntegerType())\n",
    "\n",
    "# Create the streaming query\n",
    "gold_query = (spark.readStream\n",
    "                .format(\"delta\")\n",
    "                .option(\"mergeSchema\", True)\n",
    "                .load(SILVER_DELTA)\n",
    "                .withColumn('prediction_results', sent_model(col('cleaned_text')))\n",
    "                .withColumn('predicted_score', col('prediction_results').score)\n",
    "                .withColumn('predicted_sentiment', col('prediction_results').label)\n",
    "                .withColumn('sentiment_id', convert_sentiment_udf(col('sentiment')))\n",
    "                .withColumn('predicted_sentiment_id', convert_sentiment_udf(col('predicted_sentiment')))\n",
    "                .drop('prediction_results')\n",
    "                .writeStream\n",
    "                .format(\"delta\")\n",
    "                .option(\"checkpointLocation\", GOLD_CHECKPOINT)\n",
    "                .queryName('gold_stream')\n",
    "                #.trigger(processingTime='1 second')\n",
    "                .outputMode(\"append\")\n",
    "                .start(GOLD_DELTA)\n",
    ")\n",
    "\n",
    "\n",
    "\n",
    "          "
   ]
  },
  {
   "cell_type": "code",
   "execution_count": 0,
   "metadata": {
    "application/vnd.databricks.v1+cell": {
     "cellMetadata": {
      "byteLimit": 2048000,
      "rowLimit": 10000
     },
     "inputWidgets": {},
     "nuid": "f5ca5d04-56a9-4f69-8d12-ef1bca133f87",
     "showTitle": false,
     "title": ""
    }
   },
   "outputs": [],
   "source": [
    "#Await the termination of the query\n",
    "gold_query.awaitTermination() \n",
    "gold_query.stop()\n",
    "DeltaTable.forPath(spark, GOLD_DELTA).optimize()"
   ]
  },
  {
   "cell_type": "code",
   "execution_count": 0,
   "metadata": {
    "application/vnd.databricks.v1+cell": {
     "cellMetadata": {
      "byteLimit": 2048000,
      "rowLimit": 10000
     },
     "inputWidgets": {},
     "nuid": "3cb09873-5ae4-4adb-b80d-03d0a64075c6",
     "showTitle": false,
     "title": ""
    }
   },
   "outputs": [],
   "source": [
    "\n",
    "gold_df = spark.read.format(\"delta\").load(GOLD_DELTA)\n",
    "display(gold_df)\n"
   ]
  },
  {
   "cell_type": "markdown",
   "metadata": {
    "application/vnd.databricks.v1+cell": {
     "cellMetadata": {
      "byteLimit": 2048000,
      "rowLimit": 10000
     },
     "inputWidgets": {},
     "nuid": "0494d8b4-5a55-47fc-af12-47325f34a303",
     "showTitle": false,
     "title": ""
    }
   },
   "source": [
    "## 7.0 Capture the accuracy metrics from the gold table in MLflow\n",
    "Store the following in an MLflow experiment run:\n",
    "- Store the precision, recall, and F1-score as MLflow metrics\n",
    "- Store an image of the confusion matrix as an MLflow artifact\n",
    "- Store the model name and the MLflow version that was used as an MLflow parameters\n",
    "- Store the version of the Delta Table (input-silver) as an MLflow parameter"
   ]
  },
  {
   "cell_type": "code",
   "execution_count": 0,
   "metadata": {
    "application/vnd.databricks.v1+cell": {
     "cellMetadata": {
      "byteLimit": 2048000,
      "rowLimit": 10000
     },
     "inputWidgets": {},
     "nuid": "3bb174ad-67e4-4b0a-be36-ff20a760ee8b",
     "showTitle": false,
     "title": ""
    }
   },
   "outputs": [],
   "source": [
    "\n",
    "\n",
    "# all rows that have 'neutral' as their sentiment have been removed \n",
    "y_true = gold_df.select('sentiment_id').toPandas()\n",
    "y_pred = gold_df.select('predicted_sentiment_id').toPandas()\n",
    "\n",
    "cm = confusion_matrix(y_true, y_pred)\n",
    "plt.figure(figsize=(4, 4))\n",
    "sns.heatmap(cm, annot=True, fmt=\"d\", cmap=\"Blues\")\n",
    "plt.xlabel(\"Predicted Sentiment Id\")\n",
    "plt.ylabel(\"True Sentiment Id\")\n",
    "plt.title(\"Confusion Matrix\")\n",
    "plt.savefig(\"confusion_matrix_1.png\")\n",
    "# printing the confusion matrix \n",
    "\n",
    "plt.show()\n",
    "\n",
    "plt.close()\n",
    "\n"
   ]
  },
  {
   "cell_type": "code",
   "execution_count": 0,
   "metadata": {
    "application/vnd.databricks.v1+cell": {
     "cellMetadata": {
      "byteLimit": 2048000,
      "implicitDf": true,
      "rowLimit": 10000
     },
     "inputWidgets": {},
     "nuid": "c86aec3b-be59-40fb-bf8b-a910753345d9",
     "showTitle": false,
     "title": ""
    }
   },
   "outputs": [],
   "source": [
    "%sql\n",
    "\n",
    "\n",
    "DESCRIBE HISTORY silver_delta"
   ]
  },
  {
   "cell_type": "code",
   "execution_count": 0,
   "metadata": {
    "application/vnd.databricks.v1+cell": {
     "cellMetadata": {
      "byteLimit": 2048000,
      "rowLimit": 10000
     },
     "inputWidgets": {},
     "nuid": "d9fbbb5a-dd07-4b36-be28-4fa3dcdb5378",
     "showTitle": false,
     "title": ""
    }
   },
   "outputs": [],
   "source": [
    "\n",
    "latest_version_silver = _sqldf.select('version').first()\n"
   ]
  },
  {
   "cell_type": "code",
   "execution_count": 0,
   "metadata": {
    "application/vnd.databricks.v1+cell": {
     "cellMetadata": {
      "byteLimit": 2048000,
      "rowLimit": 10000
     },
     "inputWidgets": {},
     "nuid": "3e023dbf-b268-411a-88c5-b336eb6a2b6d",
     "showTitle": false,
     "title": ""
    }
   },
   "outputs": [],
   "source": [
    "\n",
    "# Calculating the precision\n",
    "precision_1 = precision_score(y_true, y_pred)\n",
    "\n",
    "# Calculate recall\n",
    "recall_1 = recall_score(y_true, y_pred)\n",
    "\n",
    "# Calculate F1 score\n",
    "f1 = f1_score(y_true, y_pred)\n",
    "\n",
    "#silver_delta_df = spark.read.format(\"delta\").load(SILVER_DELTA)\n",
    "\n",
    "with mlflow.start_run():\n",
    "    mlflow.log_param(\"mlflow_version\", mlflow.__version__ )\n",
    "    mlflow.log_param(\"model_name\", HF_MODEL_NAME)\n",
    "    mlflow.log_param(\"Version of delta table (input-silver)\", latest_version_silver)\n",
    "    mlflow.log_metric(\"precision\", precision_1 )\n",
    "    mlflow.log_metric(\"Recall\", recall_1)\n",
    "    mlflow.log_metric(\"F1 Score\", f1)\n",
    "    mlflow.log_artifact(\"confusion_matrix_1.png\")"
   ]
  },
  {
   "cell_type": "markdown",
   "metadata": {
    "application/vnd.databricks.v1+cell": {
     "cellMetadata": {
      "byteLimit": 2048000,
      "rowLimit": 10000
     },
     "inputWidgets": {},
     "nuid": "81e0e2de-b872-4698-81cc-1669646c2183",
     "showTitle": false,
     "title": ""
    }
   },
   "source": [
    "## 8.0 Application Data Processing and Visualization\n",
    "- How many mentions are there in the gold data total?\n",
    "- Count the number of neutral, positive and negative tweets for each mention in new columns\n",
    "- Capture the total for each mention in a new column\n",
    "- Sort the mention count totals in descending order\n",
    "- Plot a bar chart of the top 20 mentions with positive sentiment (the people who are in favor)\n",
    "- Plot a bar chart of the top 20 mentions with negative sentiment (the people who are the vilians)\n",
    "\n",
    "You may want to use the \"Loop Application\" widget to control whether you repeateded display the latest plots while the data comes in from your streams before moving on to the next section and cleaning up your run.\n",
    "\n",
    "*note: A mention is a specific twitter user that has been \"mentioned\" in a tweet with an @user reference.\n",
    "\n",
    "#### Application Data - Gold Table Aggregation\n",
    "- min_timestamp - the oldest timestamp on a given mention (@username)\n",
    "- max_timestamp - the newest timestamp on a given mention (@username)\n",
    "- mention - the user (@username) that this row pertains to.\n",
    "- negative - total negative tweets directed at this mention (@username)\n",
    "- neutral - total neutral tweets directed at this mention (@username)\n",
    "- positive - total positive tweets directed at this mention (@username)"
   ]
  },
  {
   "cell_type": "code",
   "execution_count": 0,
   "metadata": {
    "application/vnd.databricks.v1+cell": {
     "cellMetadata": {
      "byteLimit": 2048000,
      "rowLimit": 10000
     },
     "inputWidgets": {},
     "nuid": "8250667b-eaa5-48a1-90c7-bfe11e666e32",
     "showTitle": false,
     "title": ""
    }
   },
   "outputs": [],
   "source": [
    "\n",
    "\n",
    "\n",
    "# selecting all rows that have a mention in the mention column \n",
    "mention_rows_df = gold_df.filter(gold_df[\"mention\"] != \"\")\n",
    "\n",
    "# Split all the strings into an array of strings \n",
    "splitted_df = mention_rows_df.select(split(\"mention\", \",\").alias(\"mention\"))\n",
    "\n",
    "# Explode this array and count the number of mentions \n",
    "total_mentions = splitted_df.select(explode(\"mention\").alias(\"mention\")).count()\n",
    "\n",
    "# Print the count\n",
    "print(\"Total Number of Mentions (Not Distinct) \", total_mentions)"
   ]
  },
  {
   "cell_type": "code",
   "execution_count": 0,
   "metadata": {
    "application/vnd.databricks.v1+cell": {
     "cellMetadata": {
      "byteLimit": 2048000,
      "rowLimit": 10000
     },
     "inputWidgets": {},
     "nuid": "7fa416c1-6cf6-4a78-8ed1-46f7951a8ed6",
     "showTitle": false,
     "title": ""
    }
   },
   "outputs": [],
   "source": [
    "\n",
    "gold_agg_df = (gold_df\n",
    "                .filter(gold_df[\"mention\"] != \"\")\n",
    "                .groupBy('mention')\n",
    "                .agg(\n",
    "                    sum(when(col('predicted_sentiment') == 'POS', 1).otherwise(0)).alias('positive'),\n",
    "                    sum(when(col('predicted_sentiment') == 'NEG', 1).otherwise(0)).alias('negative'), \n",
    "                    sum(when(col('predicted_sentiment') == 'NEU', 1).otherwise(0)).alias('neutral'),\n",
    "                    sum(when((col('predicted_sentiment') == 'POS') | (col('predicted_sentiment') == 'NEG') | (col('predicted_sentiment') == 'NEU') , 1)).alias(\"total\"),\n",
    "                    min('timestamp').alias('min_timestamp'), \n",
    "                    max('timestamp').alias('max_timestamp')\n",
    "                     )\n",
    "                .orderBy(desc('total'))\n",
    "              )\n",
    "      \n",
    "display(gold_agg_df)\n"
   ]
  },
  {
   "cell_type": "code",
   "execution_count": 0,
   "metadata": {
    "application/vnd.databricks.v1+cell": {
     "cellMetadata": {
      "byteLimit": 2048000,
      "rowLimit": 10000
     },
     "inputWidgets": {},
     "nuid": "b9c0bdeb-0e04-4247-b166-d24913101667",
     "showTitle": false,
     "title": ""
    }
   },
   "outputs": [],
   "source": [
    "# plotting the top 20 mentions with positive sentiment\n",
    "\n",
    "top_twenty_positive = (gold_agg_df\n",
    "            .orderBy(desc(\"positive\"))\n",
    "            .limit(20)\n",
    ")\n",
    "\n",
    "# Convert Spark DataFrame to Pandas DataFrame\n",
    "top_twenty_positive = top_twenty_positive.toPandas()\n",
    "\n",
    "# Plot the bar chart using the Pandas DataFrame\n",
    "fig = px.bar(top_twenty_positive, x='mention', y='positive')\n",
    "fig.show()\n",
    "\n"
   ]
  },
  {
   "cell_type": "code",
   "execution_count": 0,
   "metadata": {
    "application/vnd.databricks.v1+cell": {
     "cellMetadata": {
      "byteLimit": 2048000,
      "rowLimit": 10000
     },
     "inputWidgets": {},
     "nuid": "d965c374-7919-4bcb-a701-349418cc66bd",
     "showTitle": false,
     "title": ""
    }
   },
   "outputs": [],
   "source": [
    "# plotting the top 20 mentions with negative sentiment \n",
    "\n",
    "top_twenty_negative = (gold_agg_df\n",
    "            .orderBy(desc(\"negative\"))\n",
    "            .limit(20)\n",
    ")\n",
    "\n",
    "# Convert Spark DataFrame to Pandas DataFrame\n",
    "top_twenty_negative = top_twenty_negative.toPandas()\n",
    "\n",
    "# Plot the bar chart using the Pandas DataFrame\n",
    "fig = px.bar(top_twenty_negative, x='mention', y='negative')\n",
    "fig.show()\n",
    "\n"
   ]
  },
  {
   "cell_type": "markdown",
   "metadata": {
    "application/vnd.databricks.v1+cell": {
     "cellMetadata": {
      "byteLimit": 2048000,
      "rowLimit": 10000
     },
     "inputWidgets": {},
     "nuid": "5d5add3f-0c13-4d81-86d8-12cf3cfdd2c8",
     "showTitle": false,
     "title": ""
    }
   },
   "source": [
    "## 9.0 Clean up and completion of your pipeline\n",
    "- using the utilities what streams are running? If any.\n",
    "- Stop all active streams\n",
    "- print out the elapsed time of your notebook."
   ]
  },
  {
   "cell_type": "code",
   "execution_count": 0,
   "metadata": {
    "application/vnd.databricks.v1+cell": {
     "cellMetadata": {
      "byteLimit": 2048000,
      "rowLimit": 10000
     },
     "inputWidgets": {},
     "nuid": "0304e685-c26e-447d-b230-c37266f30003",
     "showTitle": false,
     "title": ""
    }
   },
   "outputs": [],
   "source": [
    "# ENTER YOUR CODE HERE\n",
    "\n",
    "# searching all the streams that are still running \n",
    "for stream in spark.streams.active:\n",
    "    print(\"active stream\", stream)\n",
    "\n",
    "# stopping all active streams \n",
    "stop_all_streams()\n"
   ]
  },
  {
   "cell_type": "code",
   "execution_count": 0,
   "metadata": {
    "application/vnd.databricks.v1+cell": {
     "cellMetadata": {
      "byteLimit": 2048000,
      "rowLimit": 10000
     },
     "inputWidgets": {},
     "nuid": "ea759fc8-1d78-4d6d-b571-e2e256448b76",
     "showTitle": false,
     "title": ""
    }
   },
   "outputs": [],
   "source": [
    "# Get the notebooks ending time note START_TIME was established in the include file when the notebook started.\n",
    "END_TIME = time.time()\n",
    "\n",
    "elapsed_time = END_TIME - START_TIME \n",
    "print(\"total time elapsed:\", elapsed_time)"
   ]
  },
  {
   "cell_type": "markdown",
   "metadata": {
    "application/vnd.databricks.v1+cell": {
     "cellMetadata": {
      "byteLimit": 2048000,
      "rowLimit": 10000
     },
     "inputWidgets": {},
     "nuid": "b88fc0e5-f50c-4ed1-9480-16a4c8a44b30",
     "showTitle": false,
     "title": ""
    }
   },
   "source": [
    "## 10.0 How Optimized is your Spark Application (Grad Students Only)\n",
    "Graduate students (registered for the DSCC-402 section of the course) are required to do this section.  This is a written analysis using the Spark UI (link to screen shots) that support your analysis of your pipelines execution and what is driving its performance.\n",
    "Recall that Spark Optimization has 5 significant dimensions of considertation:\n",
    "- Spill: write to executor disk due to lack of memory\n",
    "- Skew: imbalance in partition size\n",
    "- Shuffle: network io moving data between executors (wide transforms)\n",
    "- Storage: inefficiency due to disk storage format (small files, location)\n",
    "- Serialization: distribution of code segments across the cluster\n",
    "\n",
    "Comment on each of the dimentions of performance and how your impelementation is or is not being affected.  Use specific information in the Spark UI to support your description.  \n",
    "\n",
    "Note: you can take sreenshots of the Spark UI from your project runs in databricks and then link to those pictures by storing them as a publicly accessible file on your cloud drive (google, one drive, etc.)\n",
    "\n",
    "References:\n",
    "- [Spark UI Reference Reference](https://spark.apache.org/docs/latest/web-ui.html#web-ui)\n",
    "- [Spark UI Simulator](https://www.databricks.training/spark-ui-simulator/index.html)"
   ]
  },
  {
   "cell_type": "markdown",
   "metadata": {
    "application/vnd.databricks.v1+cell": {
     "cellMetadata": {
      "byteLimit": 2048000,
      "rowLimit": 10000
     },
     "inputWidgets": {},
     "nuid": "a0a5707d-a5ca-4e87-9e74-3b13d00337b0",
     "showTitle": false,
     "title": ""
    }
   },
   "source": [
    "### ENTER YOUR MARKDOWN HERE"
   ]
  }
 ],
 "metadata": {
  "application/vnd.databricks.v1+notebook": {
   "dashboards": [],
   "language": "python",
   "notebookMetadata": {
    "mostRecentlyExecutedCommandWithImplicitDF": {
     "commandId": 205537447452745,
     "dataframes": [
      "_sqldf"
     ]
    },
    "pythonIndentUnit": 4,
    "widgetLayout": [
     {
      "breakBefore": false,
      "name": "clear_previous_run",
      "width": 203
     },
     {
      "breakBefore": false,
      "name": "stop_streams",
      "width": 203
     }
    ]
   },
   "notebookName": "Starter Streaming Tweet Sentiment - Spring 2024 Final Project COPY",
   "widgets": {
    "clear_previous_run": {
     "currentValue": "No",
     "nuid": "11b43403-c70f-41ef-ab0e-41172583baaa",
     "typedWidgetInfo": null,
     "widgetInfo": {
      "widgetType": "dropdown",
      "defaultValue": "No",
      "label": null,
      "name": "clear_previous_run",
      "options": {
       "widgetType": "dropdown",
       "autoCreated": null,
       "choices": [
        "No",
        "Yes"
       ]
      }
     }
    },
    "optimize_tables": {
     "currentValue": "No",
     "nuid": "32a681ec-a3c0-42c7-bd95-d41bdaf4f0cc",
     "typedWidgetInfo": null,
     "widgetInfo": {
      "widgetType": "dropdown",
      "defaultValue": "No",
      "label": null,
      "name": "optimize_tables",
      "options": {
       "widgetType": "dropdown",
       "autoCreated": null,
       "choices": [
        "No",
        "Yes"
       ]
      }
     }
    },
    "stop_streams": {
     "currentValue": "No",
     "nuid": "47b040fd-e1bd-4f5c-881f-da2bb69e1a12",
     "typedWidgetInfo": null,
     "widgetInfo": {
      "widgetType": "dropdown",
      "defaultValue": "No",
      "label": null,
      "name": "stop_streams",
      "options": {
       "widgetType": "dropdown",
       "autoCreated": null,
       "choices": [
        "No",
        "Yes"
       ]
      }
     }
    }
   }
  }
 },
 "nbformat": 4,
 "nbformat_minor": 0
}
